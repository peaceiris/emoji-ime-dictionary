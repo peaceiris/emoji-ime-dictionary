{
  "nbformat": 4,
  "nbformat_minor": 0,
  "metadata": {
    "colab": {
      "name": "generate.ipynb",
      "version": "0.3.2",
      "provenance": []
    },
    "kernelspec": {
      "name": "python3",
      "display_name": "Python 3"
    }
  },
  "cells": [
    {
      "cell_type": "markdown",
      "metadata": {
        "id": "8FFiEpEmPNWE",
        "colab_type": "text"
      },
      "source": [
        "[![Open in Colab](https://colab.research.google.com/assets/colab-badge.svg)](https://colab.research.google.com/github/peaceiris/emoji-ime-dictionary/blob/master/generate.ipynb)"
      ]
    },
    {
      "cell_type": "code",
      "metadata": {
        "id": "53fLEViLGr6V",
        "colab_type": "code",
        "colab": {}
      },
      "source": [
        "!wget https://raw.githubusercontent.com/yagays/emoji-ja/master/data/emoji_ja.json\n",
        "!du -sh *\n",
        "!head emoji_ja.json"
      ],
      "execution_count": 0,
      "outputs": []
    },
    {
      "cell_type": "code",
      "metadata": {
        "id": "pH_7U9D4FR-2",
        "colab_type": "code",
        "colab": {}
      },
      "source": [
        "import json\n",
        "with open('emoji_ja.json') as f:\n",
        "    d = json.load(f)\n",
        "print(d['🐶'])\n",
        "for k in d['🐶']:\n",
        "    print(k)"
      ],
      "execution_count": 0,
      "outputs": []
    },
    {
      "cell_type": "code",
      "metadata": {
        "id": "c0sBikjXKnuQ",
        "colab_type": "code",
        "colab": {}
      },
      "source": [
        "!pip install six semidbm\n",
        "!pip install pykakasi"
      ],
      "execution_count": 0,
      "outputs": []
    },
    {
      "cell_type": "code",
      "metadata": {
        "id": "mnsbehBzL4fO",
        "colab_type": "code",
        "colab": {}
      },
      "source": [
        "from pykakasi import kakasi,wakati\n",
        "kakasi = kakasi()\n",
        "l = []\n",
        "for emoji in d:\n",
        "    for k in d[emoji]['keywords']:\n",
        "        if k.isalpha() is False:\n",
        "            continue\n",
        "        k = k.upper()\n",
        "        kakasi.setMode(\"J\",\"H\")\n",
        "        conv = kakasi.getConverter()\n",
        "        k = conv.do(k)\n",
        "        kakasi.setMode(\"K\",\"H\")\n",
        "        conv = kakasi.getConverter()\n",
        "        k = conv.do(k)\n",
        "        w = ':' + k + '\\t' + emoji + '\\t' + '記号' + '\\t'\n",
        "        l.append(w)\n",
        "\n",
        "    k = d[emoji]['short_name']\n",
        "    if k.isalpha() is False:\n",
        "        continue\n",
        "    k = k.upper()\n",
        "    kakasi.setMode(\"J\",\"H\")\n",
        "    conv = kakasi.getConverter()\n",
        "    k = conv.do(k)\n",
        "    kakasi.setMode(\"K\",\"H\")\n",
        "    conv = kakasi.getConverter()\n",
        "    k = conv.do(k)\n",
        "    w = ':' + k + '\\t' + emoji + '\\t' + '記号' + '\\t'\n",
        "    l.append(w)\n",
        "\n",
        "l.sort()\n",
        "l = '\\n'.join(l)\n",
        "#print(l)\n",
        "with open(\"emoji.txt\", 'w') as f:\n",
        "    f.write(str(l))"
      ],
      "execution_count": 0,
      "outputs": []
    },
    {
      "cell_type": "code",
      "metadata": {
        "id": "QXnzhuLxLjpM",
        "colab_type": "code",
        "colab": {}
      },
      "source": [
        "!head emoji.txt\n",
        "!wc emoji.txt"
      ],
      "execution_count": 0,
      "outputs": []
    },
    {
      "cell_type": "code",
      "metadata": {
        "id": "6tBZFGPBOpiE",
        "colab_type": "code",
        "colab": {}
      },
      "source": [
        "from google.colab import files\n",
        "files.download('emoji.txt')"
      ],
      "execution_count": 0,
      "outputs": []
    },
    {
      "cell_type": "code",
      "metadata": {
        "id": "cNTyG_qOTwJw",
        "colab_type": "code",
        "colab": {}
      },
      "source": [
        "!pip install six semidbm\n",
        "!pip install pykakasi"
      ],
      "execution_count": 0,
      "outputs": []
    },
    {
      "cell_type": "code",
      "metadata": {
        "id": "Jg3a4C8CZOAY",
        "colab_type": "code",
        "colab": {}
      },
      "source": [
        "from pykakasi import kakasi,wakati\n",
        "\n",
        "text = u\"カナ漢字交じり文\"\n",
        "kakasi = kakasi()\n",
        "kakasi.setMode(\"J\",\"H\")\n",
        "conv = kakasi.getConverter()\n",
        "text = conv.do(text)\n",
        "kakasi.setMode(\"K\",\"H\")\n",
        "conv = kakasi.getConverter()\n",
        "text = conv.do(text)\n",
        "print(text)"
      ],
      "execution_count": 0,
      "outputs": []
    }
  ]
}